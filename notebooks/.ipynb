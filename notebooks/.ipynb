{
 "cells": [
  {
   "cell_type": "code",
   "execution_count": 1,
   "metadata": {
    "scrolled": true
   },
   "outputs": [],
   "source": [
    "import os\n",
    "import matplotlib.pyplot as plt\n",
    "import csv\n",
    "import pickle\n",
    "import math\n",
    "\n",
    "# Don't edit\n",
    "done_load=0\n",
    "load_dest=\"\""
   ]
  },
  {
   "cell_type": "code",
   "execution_count": 2,
   "metadata": {},
   "outputs": [],
   "source": [
    "import time\n",
    "\n",
    "def deleteDB(db='ycsb', host='vmtest3.westus.cloudapp.azure.com:27017', mongo_dir=r\"C:\\Program Files\\MongoDB\\Server\\3.6\\bin\"):\n",
    "    curr_dir=os.getcwd()\n",
    "    os.chdir(mongo_dir)\n",
    "    status = os.system(r'mongo ycsb --host \"' + host + '\" --eval \"db.usertable.remove({})\"')\n",
    "    os.chdir(curr_dir)\n",
    "    return status\n",
    "\n",
    "def deleteDBMongo():\n",
    "    deleteDB(host='vmtest3.westus.cloudapp.azure.com:27017')\n",
    "    \n",
    "def deleteDBAtlas():\n",
    "    deleteDB(host='vmtest3.westus.cloudapp.azure.com:27017')    \n",
    "    \n",
    "def deleteDBCosmos(mongo_dir=r\"C:\\Program Files\\MongoDB\\Server\\3.6\\bin\"):\n",
    "    curr_dir=os.getcwd()\n",
    "    os.chdir(mongo_dir)\n",
    "    u=r\"mongo-api-benchmark\"\n",
    "    p=r\"KiYRdcJp41NN268oTcyeM2ilpLwYUAo8tsX9sYoBNTd6DzjXuJHtcaSylh5VJNGs2wg1FVGExRC0m5Z6pEk7ow==\"\n",
    "    host=r\"mongo-api-benchmark.mongo.cosmos.azure.com:10255\"\n",
    "    run_str=r'mongo ycsb --host ' + host + r' -u ' + u + r' -p ' + p + r' --ssl --eval \"db.usertable.remove({})\"'\n",
    "    status = os.system(run_str)\n",
    "    os.chdir(curr_dir)\n",
    "    time.sleep(2)\n",
    "    \n",
    "    return status    \n",
    "#    deleteDB(host=r'mongo-api-benchmark:KiYRdcJp41NN268oTcyeM2ilpLwYUAo8tsX9sYoBNTd6DzjXuJHtcaSylh5VJNGs2wg1FVGExRC0m5Z6pEk7ow^=^=@mongo-api-benchmark.mongo.cosmos.azure.com:10255/?ssl^=true^&replicaSet^=globaldb^&retrywrites^=false^&maxIdleTimeMS^=120000^&appName^=@mongo-api-benchmark@')\n",
    "#    deleteDB(host=r'mongo-api-benchmark:KiYRdcJp41NN268oTcyeM2ilpLwYUAo8tsX9sYoBNTd6DzjXuJHtcaSylh5VJNGs2wg1FVGExRC0m5Z6pEk7ow==@mongo-api-benchmark.mongo.cosmos.azure.com:10255/?ssl=true&replicaSet=globaldb&retrywrites=false&maxIdleTimeMS=120000&appName=@mongo-api-benchmark@')"
   ]
  },
  {
   "cell_type": "code",
   "execution_count": 3,
   "metadata": {},
   "outputs": [],
   "source": [
    "def runYCSB(cmd=\"run\", ycsb_dir=r'C:\\Users\\anfeldma\\codeHome\\YCSB\\bin',workload_dir=r'C:\\Users\\anfeldma\\codeHome\\YCSB\\workloads',workload='workloadw', \\\n",
    "            mongo_endpoint=r'mongodb://vmtest3.westus.cloudapp.azure.com:27017/',operation_count=1000, \\\n",
    "            nthreads=1,logdir=\".\\\\\",logfn=\"log.csv\"):\n",
    "    \n",
    "    curr_dir=os.getcwd()\n",
    "    os.chdir(ycsb_dir)\n",
    "    ycsb_str=r'ycsb ' + cmd + ' mongodb -s -P \"' + workload_dir + \"\\\\\" + workload + r'\" -p mongodb.url=\"' + mongo_endpoint + \\\n",
    "            r'\" -p operationcount=' + str(operation_count) + r' -p recordcount=' + str(operation_count) + r' -threads ' + str(nthreads) + \\\n",
    "            r\" \" + \\\n",
    "            ' > ' + logdir + logfn\n",
    "    print(ycsb_str)\n",
    "    #status=0\n",
    "    os.system(ycsb_str)\n",
    "    os.chdir(curr_dir)\n",
    "    return ycsb_str\n",
    "\n",
    "def runYCSBMongo36(execmd=\"run\", op_count=10000, nthr=1, wkld=\"workloadw\"):\n",
    "    return runYCSB(cmd=execmd, operation_count=op_count, nthreads=nthr, workload=wkld)\n",
    "\n",
    "def runYCSBCosmos36(execmd=\"run\", op_count=10000, nthr=1, wkld=\"workloadw\"):\n",
    "    return runYCSB(cmd=execmd, mongo_endpoint=r'mongodb://mongo-api-benchmark:KiYRdcJp41NN268oTcyeM2ilpLwYUAo8tsX9sYoBNTd6DzjXuJHtcaSylh5VJNGs2wg1FVGExRC0m5Z6pEk7ow^=^=@mongo-api-benchmark.mongo.cosmos.azure.com:10255/?ssl^=true^&replicaSet^=globaldb^&retrywrites^=false^&maxIdleTimeMS^=120000^&appName^=@mongo-api-benchmark@', \\\n",
    "                   operation_count=op_count, nthreads=nthr, workload=wkld)\n",
    "\n",
    "def runYCSBAtlas36(execmd=\"run\", op_count=10000, nthr=1, wkld=\"workloadw\"):\n",
    "    return runYCSB(cmd=execmd, mongo_endpoint=r'mongodb://vmtest3.westus.cloudapp.azure.com:27017', \\\n",
    "                   operation_count=op_count, nthreads=nthr, workload=wkld)"
   ]
  },
  {
   "cell_type": "code",
   "execution_count": 4,
   "metadata": {},
   "outputs": [],
   "source": [
    "def parseLog(logdir=r'C:\\Users\\anfeldma\\codeHome\\YCSB\\bin', logfn='log.csv'):\n",
    "    metrics_dict={}\n",
    "    with open(logdir + '\\\\' + logfn, newline='') as csvfile:\n",
    "        csvrdr = csv.reader(csvfile)#csv.reader(csvfile, delimiter='', quotechar='|')\n",
    "        for row in csvrdr:\n",
    "            if len(row) > 0 and row[0][0] == \"[\":\n",
    "                arg0 = row[0].lstrip().rstrip()\n",
    "                arg1 = row[1].lstrip().rstrip()\n",
    "                met_val = row[2].lstrip().rstrip()\n",
    "                if not(arg0 in metrics_dict):\n",
    "                    metrics_dict[arg0] = {}\n",
    "                metrics_dict[arg0][arg1] = float(met_val)\n",
    "\n",
    "    return metrics_dict"
   ]
  },
  {
   "cell_type": "code",
   "execution_count": 5,
   "metadata": {},
   "outputs": [],
   "source": [
    "def getIndividualMetrics(met_thrpt_dict_array):\n",
    "    # Plot response curve\n",
    "    thrpt_list=[]\n",
    "    metric_list=[]\n",
    "    max_thrpt=0\n",
    "\n",
    "    for idx in range(len(met_thrpt_dict_array)):\n",
    "        thrpt_list.append(met_thrpt_dict_array[idx][rt_thrpt_field][thrpt_field])\n",
    "        metric_list.append(met_thrpt_dict_array[idx][optype_field][metric_field])\n",
    "    \n",
    "    return thrpt_list, metric_list, max_thrpt"
   ]
  },
  {
   "cell_type": "code",
   "execution_count": 6,
   "metadata": {},
   "outputs": [],
   "source": [
    "def plotResponseCurve(thrpt_list, metric_list, max_thrpt, optype_field):\n",
    "    \n",
    "    plt.plot(thrpt_list, metric_list, marker=\"x\")\n",
    "    ax = plt.gca()\n",
    "\n",
    "    for idx in range(len(met_thrpt_dict_array)):\n",
    "        ax.annotate(str(thrpt_list[idx]),\n",
    "        xy=(thrpt_list[idx], metric_list[idx]))\n",
    "    \n",
    "    plt.grid(True)\n",
    "    plt.title(optype_field)\n",
    "    plt.xlabel(thrpt_field)\n",
    "    plt.ylabel(metric_field)\n",
    "    fig=plt.gcf()\n",
    "    plt.show()\n",
    "    return fig"
   ]
  },
  {
   "cell_type": "code",
   "execution_count": 7,
   "metadata": {},
   "outputs": [],
   "source": [
    "def saveResult(met_thrpt_dict_array,thrpt_list,metric_list,nthread_list,max_thrpt,optype_field,ycsb_str,fig):\n",
    "    print(\"Making \" + optype_field + \" dir.\")\n",
    "    os.makedirs(optype_field, exist_ok=True)\n",
    "    print(\"Saving result data...\")\n",
    "    dumpObj={}\n",
    "    with open(optype_field + \"\\\\pickle.obj\", \"wb\") as fileObj:\n",
    "        dumpObj[\"met_thrpt_dict_array\"]=met_thrpt_dict_array\n",
    "        dumpObj[\"thrpt_list\"]=thrpt_list\n",
    "        dumpObj[\"metric_list\"]=metric_list\n",
    "        dumpObj[\"nthread_list\"]=nthread_list\n",
    "        dumpObj[\"max_thrpt\"]=max_thrpt\n",
    "        dumpObj[\"optype_field\"]=optype_field\n",
    "        dumpObj[\"ycsb_str\"]=max_thrpt\n",
    "        pickle.dump(dumpObj,fileObj)\n",
    "    print(\"Saving plot...\")\n",
    "    fig.savefig(optype_field + \"\\\\\" + optype_field + \".png\")"
   ]
  },
  {
   "cell_type": "code",
   "execution_count": 8,
   "metadata": {},
   "outputs": [],
   "source": [
    "def saveComparison(op_max_rate):\n",
    "    print(\"Making \" + \"ycsb_op_comparison\" + \" dir.\")\n",
    "    os.makedirs(\"ycsb_op_comparison\", exist_ok=True)\n",
    "    print(\"Saving comparison data...\")   \n",
    "    dumpObj={}\n",
    "    with open(optype_field + \"\\\\pickle.obj\", \"wb\") as fileObj:\n",
    "        dumpObj[\"op_max_rate\"]=op_max_rate\n",
    "        pickle.dump(dumpObj,fileObj)    "
   ]
  },
  {
   "cell_type": "code",
   "execution_count": 9,
   "metadata": {},
   "outputs": [],
   "source": [
    "op_mapping={\"insert\":{\"optype_field\":\"[INSERT]\",\"workload_name\":\"workloadw\"}, \\\n",
    "            \"read\":{\"optype_field\":\"[READ]\",\"workload_name\":\"workloadr\"}, \\\n",
    "            \"update\":{\"optype_field\":\"[UPDATE]\",\"workload_name\":\"workloadu\"} \\\n",
    "           }\n",
    "\n",
    "\n",
    "db_type=\"cosmos\" #\"cosmos\", \"mongo\", \"atlas\"\n",
    "rt_thrpt_field=\"[OVERALL]\"\n",
    "rt_field=\"RunTime(ms)\"\n",
    "thrpt_field=\"Throughput(ops/sec)\"\n",
    "ops_list=[\"insert\"] #[\"insert\",\"read\",\"update\"]\n",
    "opname=\"read\"\n",
    "optype_field=op_mapping[opname][\"optype_field\"]\n",
    "workload_name=op_mapping[opname][\"workload_name\"]\n",
    "metric_field=\"99thPercentileLatency(us)\"\n",
    "doc_count=1000\n",
    "nthread_list=[1,2,5,10,20,50,64,100]"
   ]
  },
  {
   "cell_type": "code",
   "execution_count": 10,
   "metadata": {
    "scrolled": false
   },
   "outputs": [
    {
     "name": "stdout",
     "output_type": "stream",
     "text": [
      "Starting YCSB cosmos run, opname insert, workload workloadw, thread count 1\n",
      "Done deleting existing YCSB dataset.\n",
      "ycsb run mongodb -s -P \"C:\\Users\\anfeldma\\codeHome\\YCSB\\workloads\\workloadw\" -p mongodb.url=\"mongodb://mongo-api-benchmark:KiYRdcJp41NN268oTcyeM2ilpLwYUAo8tsX9sYoBNTd6DzjXuJHtcaSylh5VJNGs2wg1FVGExRC0m5Z6pEk7ow^=^=@mongo-api-benchmark.mongo.cosmos.azure.com:10255/?ssl^=true^&replicaSet^=globaldb^&retrywrites^=false^&maxIdleTimeMS^=120000^&appName^=@mongo-api-benchmark@\" -p operationcount=1000 -p recordcount=1000 -threads 1  > .\\log.csv\n",
      "Finished YCSB run, thread count 1\n",
      "Starting YCSB cosmos run, opname insert, workload workloadw, thread count 2\n",
      "Done deleting existing YCSB dataset.\n",
      "ycsb run mongodb -s -P \"C:\\Users\\anfeldma\\codeHome\\YCSB\\workloads\\workloadw\" -p mongodb.url=\"mongodb://mongo-api-benchmark:KiYRdcJp41NN268oTcyeM2ilpLwYUAo8tsX9sYoBNTd6DzjXuJHtcaSylh5VJNGs2wg1FVGExRC0m5Z6pEk7ow^=^=@mongo-api-benchmark.mongo.cosmos.azure.com:10255/?ssl^=true^&replicaSet^=globaldb^&retrywrites^=false^&maxIdleTimeMS^=120000^&appName^=@mongo-api-benchmark@\" -p operationcount=1000 -p recordcount=1000 -threads 2  > .\\log.csv\n",
      "Finished YCSB run, thread count 2\n",
      "Starting YCSB cosmos run, opname insert, workload workloadw, thread count 5\n",
      "Done deleting existing YCSB dataset.\n",
      "ycsb run mongodb -s -P \"C:\\Users\\anfeldma\\codeHome\\YCSB\\workloads\\workloadw\" -p mongodb.url=\"mongodb://mongo-api-benchmark:KiYRdcJp41NN268oTcyeM2ilpLwYUAo8tsX9sYoBNTd6DzjXuJHtcaSylh5VJNGs2wg1FVGExRC0m5Z6pEk7ow^=^=@mongo-api-benchmark.mongo.cosmos.azure.com:10255/?ssl^=true^&replicaSet^=globaldb^&retrywrites^=false^&maxIdleTimeMS^=120000^&appName^=@mongo-api-benchmark@\" -p operationcount=1000 -p recordcount=1000 -threads 5  > .\\log.csv\n",
      "Finished YCSB run, thread count 5\n",
      "Starting YCSB cosmos run, opname insert, workload workloadw, thread count 10\n",
      "Done deleting existing YCSB dataset.\n",
      "ycsb run mongodb -s -P \"C:\\Users\\anfeldma\\codeHome\\YCSB\\workloads\\workloadw\" -p mongodb.url=\"mongodb://mongo-api-benchmark:KiYRdcJp41NN268oTcyeM2ilpLwYUAo8tsX9sYoBNTd6DzjXuJHtcaSylh5VJNGs2wg1FVGExRC0m5Z6pEk7ow^=^=@mongo-api-benchmark.mongo.cosmos.azure.com:10255/?ssl^=true^&replicaSet^=globaldb^&retrywrites^=false^&maxIdleTimeMS^=120000^&appName^=@mongo-api-benchmark@\" -p operationcount=1000 -p recordcount=1000 -threads 10  > .\\log.csv\n",
      "Finished YCSB run, thread count 10\n",
      "Starting YCSB cosmos run, opname insert, workload workloadw, thread count 20\n",
      "Done deleting existing YCSB dataset.\n",
      "ycsb run mongodb -s -P \"C:\\Users\\anfeldma\\codeHome\\YCSB\\workloads\\workloadw\" -p mongodb.url=\"mongodb://mongo-api-benchmark:KiYRdcJp41NN268oTcyeM2ilpLwYUAo8tsX9sYoBNTd6DzjXuJHtcaSylh5VJNGs2wg1FVGExRC0m5Z6pEk7ow^=^=@mongo-api-benchmark.mongo.cosmos.azure.com:10255/?ssl^=true^&replicaSet^=globaldb^&retrywrites^=false^&maxIdleTimeMS^=120000^&appName^=@mongo-api-benchmark@\" -p operationcount=1000 -p recordcount=1000 -threads 20  > .\\log.csv\n",
      "Finished YCSB run, thread count 20\n",
      "Starting YCSB cosmos run, opname insert, workload workloadw, thread count 50\n",
      "Done deleting existing YCSB dataset.\n",
      "ycsb run mongodb -s -P \"C:\\Users\\anfeldma\\codeHome\\YCSB\\workloads\\workloadw\" -p mongodb.url=\"mongodb://mongo-api-benchmark:KiYRdcJp41NN268oTcyeM2ilpLwYUAo8tsX9sYoBNTd6DzjXuJHtcaSylh5VJNGs2wg1FVGExRC0m5Z6pEk7ow^=^=@mongo-api-benchmark.mongo.cosmos.azure.com:10255/?ssl^=true^&replicaSet^=globaldb^&retrywrites^=false^&maxIdleTimeMS^=120000^&appName^=@mongo-api-benchmark@\" -p operationcount=1000 -p recordcount=1000 -threads 50  > .\\log.csv\n",
      "Finished YCSB run, thread count 50\n",
      "Starting YCSB cosmos run, opname insert, workload workloadw, thread count 64\n",
      "Done deleting existing YCSB dataset.\n",
      "ycsb run mongodb -s -P \"C:\\Users\\anfeldma\\codeHome\\YCSB\\workloads\\workloadw\" -p mongodb.url=\"mongodb://mongo-api-benchmark:KiYRdcJp41NN268oTcyeM2ilpLwYUAo8tsX9sYoBNTd6DzjXuJHtcaSylh5VJNGs2wg1FVGExRC0m5Z6pEk7ow^=^=@mongo-api-benchmark.mongo.cosmos.azure.com:10255/?ssl^=true^&replicaSet^=globaldb^&retrywrites^=false^&maxIdleTimeMS^=120000^&appName^=@mongo-api-benchmark@\" -p operationcount=1000 -p recordcount=1000 -threads 64  > .\\log.csv\n",
      "Finished YCSB run, thread count 64\n",
      "Starting YCSB cosmos run, opname insert, workload workloadw, thread count 100\n",
      "Done deleting existing YCSB dataset.\n",
      "ycsb run mongodb -s -P \"C:\\Users\\anfeldma\\codeHome\\YCSB\\workloads\\workloadw\" -p mongodb.url=\"mongodb://mongo-api-benchmark:KiYRdcJp41NN268oTcyeM2ilpLwYUAo8tsX9sYoBNTd6DzjXuJHtcaSylh5VJNGs2wg1FVGExRC0m5Z6pEk7ow^=^=@mongo-api-benchmark.mongo.cosmos.azure.com:10255/?ssl^=true^&replicaSet^=globaldb^&retrywrites^=false^&maxIdleTimeMS^=120000^&appName^=@mongo-api-benchmark@\" -p operationcount=1000 -p recordcount=1000 -threads 100  > .\\log.csv\n",
      "Finished YCSB run, thread count 100\n"
     ]
    },
    {
     "data": {
      "image/png": "[encoded data removed]",
      "text/plain": [
       "<Figure size 432x288 with 1 Axes>"
      ]
     },
     "metadata": {
      "needs_background": "light"
     },
     "output_type": "display_data"
    },
    {
     "name": "stdout",
     "output_type": "stream",
     "text": [
      "Making [INSERT] dir.\n",
      "Saving result data...\n",
      "Saving plot...\n",
      "Max throughput: 894.4543828264758\n",
      "Making ycsb_op_comparison dir.\n",
      "Saving comparison data...\n",
      "{'insert': 894.4543828264758}\n"
     ]
    }
   ],
   "source": [
    "met_thrpt_dict_array = []    \n",
    "\n",
    "os.chdir(r\"C:\\Users\\anfeldma\\codeHome\\YCSB\")\n",
    "\n",
    "op_max_rate={}\n",
    "    \n",
    "for jdx in range(len(ops_list)):\n",
    "    opname = ops_list[jdx]\n",
    "    optype_field=op_mapping[opname][\"optype_field\"]\n",
    "    workload_name=op_mapping[opname][\"workload_name\"]\n",
    "    \n",
    "    if opname != \"insert\":\n",
    "        if done_load>=doc_count and load_dest==db_type:\n",
    "            print(\"Already loaded data.\")\n",
    "        else:\n",
    "            print(\"Starting YCSB load using max thread count...\")\n",
    "            runYCSBMongo36(execmd=\"load\",op_count=doc_count, nthr=max(nthread_list), wkld=workload_name)\n",
    "            done_load=doc_count\n",
    "            load_dest=db_type\n",
    "            print(\"Finished YCSB load.\")        \n",
    "    \n",
    "    for idx in range(len(nthread_list)):\n",
    "        print(\"Starting YCSB \" + db_type + \" run, opname \" + opname + \", workload \" + workload_name +  \", thread count \" + str(nthread_list[idx]))\n",
    "        if opname==\"insert\":\n",
    "            if db_type==\"mongo\":\n",
    "                deleteDBMongo()\n",
    "            elif db_type==\"atlas\":\n",
    "                deleteDBAtlas()\n",
    "            elif db_type==\"cosmos\":\n",
    "                deleteDBCosmos()\n",
    "                \n",
    "            print(\"Done deleting existing YCSB dataset.\")\n",
    "                \n",
    "            done_load=0\n",
    "        if db_type==\"mongo\":\n",
    "            ycsb_str=runYCSBMongo36(op_count=doc_count, nthr=nthread_list[idx], wkld=workload_name)\n",
    "        elif db_type==\"atlas\":\n",
    "            ycsb_str=runYCSBAtlas36(op_count=doc_count, nthr=nthread_list[idx], wkld=workload_name)\n",
    "        elif db_type==\"cosmos\":\n",
    "            ycsb_str=runYCSBCosmos36(op_count=doc_count, nthr=nthread_list[idx], wkld=workload_name)\n",
    "            \n",
    "        met_thrpt_dict_array.append(parseLog())\n",
    "        print(\"Finished YCSB run, thread count \" + str(nthread_list[idx]))\n",
    "        \n",
    "    thrpt_list, metric_list, max_thrpt = getIndividualMetrics(met_thrpt_dict_array)\n",
    "    max_thrpt=max(thrpt_list)\n",
    "    met_thrpt_dict_array=[]\n",
    "    fig=plotResponseCurve(thrpt_list, metric_list, max_thrpt, opname)\n",
    "    saveResult(met_thrpt_dict_array,thrpt_list,metric_list,nthread_list,max_thrpt,optype_field,ycsb_str,fig)\n",
    "    \n",
    "    print(\"Max throughput: \" + str(max_thrpt))\n",
    "    op_max_rate[opname]=max_thrpt\n",
    "    \n",
    "saveComparison(op_max_rate)\n",
    "print(op_max_rate)"
   ]
  },
  {
   "cell_type": "code",
   "execution_count": 11,
   "metadata": {},
   "outputs": [
    {
     "data": {
      "text/plain": [
       "<BarContainer object of 1 artists>"
      ]
     },
     "execution_count": 11,
     "metadata": {},
     "output_type": "execute_result"
    },
    {
     "data": {
      "image/png": "[encoded data removed]",
      "text/plain": [
       "<Figure size 432x288 with 1 Axes>"
      ]
     },
     "metadata": {
      "needs_background": "light"
     },
     "output_type": "display_data"
    }
   ],
   "source": [
    "plt.bar(op_max_rate.keys(),op_max_rate.values())"
   ]
  },
  {
   "cell_type": "code",
   "execution_count": null,
   "metadata": {
    "scrolled": true
   },
   "outputs": [],
   "source": []
  },
  {
   "cell_type": "code",
   "execution_count": 12,
   "metadata": {},
   "outputs": [
    {
     "data": {
      "text/plain": [
       "'C:\\\\Users\\\\anfeldma\\\\codeHome\\\\YCSB'"
      ]
     },
     "execution_count": 12,
     "metadata": {},
     "output_type": "execute_result"
    }
   ],
   "source": [
    "os.getcwd()"
   ]
  },
  {
   "cell_type": "code",
   "execution_count": 14,
   "metadata": {},
   "outputs": [
    {
     "name": "stdout",
     "output_type": "stream",
     "text": [
      "[]\n"
     ]
    }
   ],
   "source": [
    "print(met_thrpt_dict_array)"
   ]
  },
  {
   "cell_type": "code",
   "execution_count": null,
   "metadata": {},
   "outputs": [],
   "source": []
  }
 ],
 "metadata": {
  "kernelspec": {
   "display_name": "Python 3",
   "language": "python",
   "name": "python3"
  },
  "language_info": {
   "codemirror_mode": {
    "name": "ipython",
    "version": 3
   },
   "file_extension": ".py",
   "mimetype": "text/x-python",
   "name": "python",
   "nbconvert_exporter": "python",
   "pygments_lexer": "ipython3",
   "version": "3.8.3"
  }
 },
 "nbformat": 4,
 "nbformat_minor": 4
}
